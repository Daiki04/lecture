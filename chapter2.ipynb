{
 "cells": [
  {
   "cell_type": "markdown",
   "metadata": {},
   "source": [
    "[![Open In Colab](https://colab.research.google.com/assets/colab-badge.svg)](http://colab.research.google.com/github/Daiki04/blob/main/chapter2.ipynb)"
   ]
  },
  {
   "cell_type": "markdown",
   "metadata": {},
   "source": [
    "# 第2回：画像データの基本、画像処理アルゴリズム"
   ]
  },
  {
   "cell_type": "code",
   "execution_count": null,
   "metadata": {},
   "outputs": [],
   "source": [
    "import cv2\n",
    "import matplotlib.pyplot as plt\n",
    "import numpy as np"
   ]
  },
  {
   "cell_type": "markdown",
   "metadata": {},
   "source": [
    "## 画像の表示"
   ]
  },
  {
   "cell_type": "markdown",
   "metadata": {},
   "source": [
    "### 基礎"
   ]
  },
  {
   "cell_type": "code",
   "execution_count": null,
   "metadata": {},
   "outputs": [],
   "source": [
    "# 画像データの読み込み\n",
    "img_lenna = cv2.imread(\"./imgs/lenna.png\")\n",
    "\n",
    "# 画像情報の表示\n",
    "print(img_lenna)\n",
    "\n",
    "# 画像の表示\n",
    "plt.imshow(img_lenna)\n",
    "plt.show()\n"
   ]
  },
  {
   "cell_type": "markdown",
   "metadata": {},
   "source": [
    "OpenCV はデフォルトで BGR (Blue, Green, Red)  \n",
    "pyplot では RGB (Red, Green, Blue)"
   ]
  },
  {
   "cell_type": "code",
   "execution_count": null,
   "metadata": {},
   "outputs": [],
   "source": [
    "# 画像データの読み込み\n",
    "img_lenna = cv2.imread(\"./imgs/lenna.png\")\n",
    "img_lenna = cv2.cvtColor(img_lenna, cv2.COLOR_BGR2RGB)  # BGR to RGB\n",
    "\n",
    "# 画像の表示\n",
    "plt.imshow(img_lenna)\n",
    "plt.show()"
   ]
  },
  {
   "cell_type": "markdown",
   "metadata": {},
   "source": [
    "### 演習 2-0\n",
    "OpenCV で画像を読み込み、pyplot で表示しなさい。"
   ]
  },
  {
   "cell_type": "code",
   "execution_count": null,
   "metadata": {},
   "outputs": [],
   "source": [
    "# 画像データの読み込み\n",
    "img = cv2.imread(\"./imgs/lenna.png\")\n",
    "img = cv2.cvtColor(img, cv2.COLOR_BGR2RGB)  # BGR to RGB\n",
    "\n",
    "# 画像の表示\n",
    "plt.imshow(img)\n",
    "plt.show()"
   ]
  },
  {
   "cell_type": "markdown",
   "metadata": {},
   "source": [
    "### HSV 色空間への変換"
   ]
  },
  {
   "cell_type": "code",
   "execution_count": null,
   "metadata": {},
   "outputs": [],
   "source": [
    "img_lenna = cv2.imread(\"./imgs/lenna.png\")\n",
    "img_lenna = cv2.cvtColor(img_lenna, cv2.COLOR_BGR2HSV)  # BGR to HSV\n",
    "\n",
    "# 画像の表示（RGB空間）\n",
    "plt.imshow(img_lenna)\n",
    "plt.show()"
   ]
  },
  {
   "cell_type": "markdown",
   "metadata": {},
   "source": [
    "HSV 色空間で何らかの操作をして RGB 空間に戻す"
   ]
  },
  {
   "cell_type": "code",
   "execution_count": null,
   "metadata": {},
   "outputs": [],
   "source": [
    "img_lenna = cv2.imread(\"./imgs/lenna.png\")\n",
    "img_lenna = cv2.cvtColor(img_lenna, cv2.COLOR_BGR2HSV)  # BGR to HSV\n",
    "\n",
    "img_lenna[:, :, 0] = img_lenna[:, :, 0]   # Hue (色相: 0～180)\n",
    "img_lenna[:, :, 1] = img_lenna[:, :, 1]   # Saturation (彩度: 0～255)\n",
    "img_lenna[:, :, 2] = img_lenna[:, :, 2]   # Value (明度: 0～255)\n",
    "\n",
    "img_lenna = cv2.cvtColor(img_lenna, cv2.COLOR_HSV2RGB)  # HSV to RGB\n",
    "\n",
    "# 画像の表示\n",
    "plt.imshow(img_lenna)\n",
    "plt.show()"
   ]
  },
  {
   "cell_type": "markdown",
   "metadata": {},
   "source": [
    "### 演習 2-1 色相、彩度、明度の操作により、以下の画像に近い画像を作成しなさい。"
   ]
  },
  {
   "cell_type": "code",
   "execution_count": null,
   "metadata": {},
   "outputs": [],
   "source": [
    "img_lenna = cv2.imread(\"./imgs/lenna.png\")\n",
    "img_lenna_hsv = cv2.cvtColor(img_lenna, cv2.COLOR_BGR2HSV)  # BGR to HSV\n",
    "\n",
    "img_lenna_hsv[:, :, 0] = img_lenna_hsv[:, :, 0] + 30   # Hue (色相: 0～180)\n",
    "img_lenna_hsv[:, :, 1] = img_lenna_hsv[:, :, 1] * 0.3   # Saturation (彩度: 0～255)\n",
    "img_lenna_hsv[:, :, 2] = img_lenna_hsv[:, :, 2] * 1.0   # Value (明度: 0～255)\n",
    "\n",
    "img_lenna_bgr = cv2.cvtColor(img_lenna_hsv, cv2.COLOR_HSV2BGR)  # HSV to RGB\n",
    "img_lenna_rgb = cv2.cvtColor(img_lenna_hsv, cv2.COLOR_BGR2RGB)  # HSV to RGB\n",
    "\n",
    "# 画像の表示\n",
    "plt.imshow(img_lenna_rgb)\n",
    "cv2.imwrite(\"./imgs/exercise2_1_1.png\", img_lenna_bgr)\n",
    "plt.show()"
   ]
  },
  {
   "cell_type": "code",
   "execution_count": null,
   "metadata": {},
   "outputs": [],
   "source": [
    "img_lenna = cv2.imread(\"./imgs/lenna.png\")\n",
    "img_lenna_hsv = cv2.cvtColor(img_lenna, cv2.COLOR_BGR2HSV)  # BGR to HSV\n",
    "\n",
    "img_lenna_hsv[:, :, 0] = 105    # Hue (色相: 0～180)\n",
    "img_lenna_hsv[:, :, 1] = 200   # Saturation (彩度: 0～255)\n",
    "img_lenna_hsv[:, :, 2] = img_lenna_hsv[:, :, 2] * 0.6   # Value (明度: 0～255)\n",
    "\n",
    "img_lenna_bgr = cv2.cvtColor(img_lenna_hsv, cv2.COLOR_HSV2BGR)  # HSV to RGB\n",
    "img_lenna_rgb = cv2.cvtColor(img_lenna_hsv, cv2.COLOR_BGR2RGB)  # HSV to RGB\n",
    "\n",
    "# 画像の表示\n",
    "plt.imshow(img_lenna_rgb)\n",
    "cv2.imwrite(\"./imgs/exercise2_1_2.png\", img_lenna_bgr)\n",
    "plt.show()"
   ]
  },
  {
   "cell_type": "code",
   "execution_count": null,
   "metadata": {},
   "outputs": [],
   "source": [
    "# 画像の結合\n",
    "lenna_hsv2 = cv2.imread(\"./imgs/exercise2_1_1.png\")\n",
    "lenna_hsv3 = cv2.imread(\"./imgs/exercise2_1_2.png\")\n",
    "\n",
    "lenna_hsv2 = cv2.cvtColor(lenna_hsv2, cv2.COLOR_BGR2RGB)  # BGR to RGB\n",
    "lenna_hsv3 = cv2.cvtColor(lenna_hsv3, cv2.COLOR_BGR2RGB)  # BGR to RGB\n",
    "\n",
    "# 画像を並べて表示\n",
    "plt.subplot(1, 2, 1)\n",
    "plt.imshow(lenna_hsv2)\n",
    "plt.title(\"Similar to image1\")\n",
    "plt.axis(\"off\")\n",
    "plt.subplot(1, 2, 2)\n",
    "plt.imshow(lenna_hsv3)\n",
    "plt.title(\"Similar to image2\")\n",
    "# 余白無しで保存\n",
    "plt.tight_layout()\n",
    "plt.subplots_adjust(left=0, right=1, bottom=0, top=1)\n",
    "plt.axis(\"off\")\n",
    "plt.savefig(\"./imgs/exercise2.png\", bbox_inches=\"tight\", pad_inches=0)\n",
    "plt.show()\n"
   ]
  },
  {
   "cell_type": "markdown",
   "metadata": {},
   "source": [
    "### グレースケールへの変換"
   ]
  },
  {
   "cell_type": "code",
   "execution_count": null,
   "metadata": {},
   "outputs": [],
   "source": [
    "# 画像データの読み込み（グレースケール化）\n",
    "img_lenna = cv2.imread(\"./imgs/lenna.png\")\n",
    "img_lenna = cv2.cvtColor(img_lenna, cv2.COLOR_BGR2GRAY) # BGR to GRAY\n",
    "\n",
    "# 画像の表示（グレースケール表示）\n",
    "plt.imshow(img_lenna)\n",
    "plt.gray()\n",
    "plt.show()"
   ]
  },
  {
   "cell_type": "markdown",
   "metadata": {},
   "source": [
    "## 画像の保存"
   ]
  },
  {
   "cell_type": "code",
   "execution_count": null,
   "metadata": {},
   "outputs": [],
   "source": [
    "# 画像データの読み込み（グレースケール化）\n",
    "img_lenna = cv2.imread(\"./imgs/lenna.png\")\n",
    "img_lenna = cv2.cvtColor(img_lenna, cv2.COLOR_BGR2GRAY) # BGR to GRAY\n",
    "\n",
    "# 画像の表示（グレースケール表示）\n",
    "plt.imshow(img_lenna)\n",
    "plt.gray()\n",
    "plt.savefig(\"./imgs/lenna_gray.png\")\n",
    "cv2.imwrite(\"./imgs/lenna_output.png\", img_lenna)\n",
    "plt.show()"
   ]
  },
  {
   "cell_type": "markdown",
   "metadata": {},
   "source": [
    "## 画像のリサイズとトリミング"
   ]
  },
  {
   "cell_type": "markdown",
   "metadata": {},
   "source": [
    "### 画像サイズの確認"
   ]
  },
  {
   "cell_type": "code",
   "execution_count": null,
   "metadata": {},
   "outputs": [],
   "source": [
    "img_lenna = cv2.imread(\"./imgs/lenna.png\")\n",
    "\n",
    "# サイズの表示\n",
    "print(img_lenna.shape) # (height, width, channel) <- opencvの場合"
   ]
  },
  {
   "cell_type": "markdown",
   "metadata": {},
   "source": [
    "### リサイズ"
   ]
  },
  {
   "cell_type": "code",
   "execution_count": null,
   "metadata": {},
   "outputs": [],
   "source": [
    "img_lenna = cv2.imread(\"./imgs/lenna.png\")\n",
    "img_lenna_resize = cv2.resize(img_lenna, (64, 64))\n",
    "\n",
    "# サイズの表示\n",
    "print(img_lenna_resize.shape) # (height, width, channel)\n",
    "\n",
    "# 画像の表示\n",
    "plt.imshow(cv2.cvtColor(img_lenna_resize, cv2.COLOR_BGR2RGB))\n",
    "plt.show()"
   ]
  },
  {
   "cell_type": "markdown",
   "metadata": {},
   "source": [
    "### トリミング"
   ]
  },
  {
   "cell_type": "code",
   "execution_count": null,
   "metadata": {},
   "outputs": [],
   "source": [
    "img_lenna = cv2.imread(\"./imgs/lenna.png\")\n",
    "img_lenna_trim = img_lenna[100:300, 100:300]\n",
    "\n",
    "# 画像の表示\n",
    "plt.imshow(cv2.cvtColor(img_lenna_trim, cv2.COLOR_BGR2RGB))\n",
    "plt.show()"
   ]
  },
  {
   "cell_type": "code",
   "execution_count": null,
   "metadata": {},
   "outputs": [],
   "source": [
    "img_lenna = cv2.imread(\"./imgs/lenna.png\")\n",
    "img_lenna_trim = img_lenna[128:384, 128:384]\n",
    "\n",
    "# 画像の表示\n",
    "plt.imshow(cv2.cvtColor(img_lenna_trim, cv2.COLOR_BGR2RGB))\n",
    "plt.show()"
   ]
  },
  {
   "cell_type": "markdown",
   "metadata": {},
   "source": [
    "### 演習 2-2\n",
    "幅 w、高さ h のサイズの画像に対して、画像中央の 0.5w × 0.5h の領域がトリミングされるようなコードを作成しなさい。"
   ]
  },
  {
   "cell_type": "code",
   "execution_count": null,
   "metadata": {},
   "outputs": [],
   "source": [
    "img_lenna = cv2.imread(\"./imgs/lenna.png\")\n",
    "H = img_lenna.shape[0]\n",
    "W = img_lenna.shape[1]\n",
    "\n",
    "img_lenna_trim = img_lenna[int(H/4):int(H*3/4), int(W/4):int(W*3/4)]\n",
    "\n",
    "# 画像の形状の表示\n",
    "print(img_lenna_trim.shape) # (height, width, channel)\n",
    "\n",
    "# 画像の表示\n",
    "plt.imshow(cv2.cvtColor(img_lenna_trim, cv2.COLOR_BGR2RGB))\n",
    "cv2.imwrite(\"./imgs/exercise2_2.png\", img_lenna_trim)\n",
    "plt.show()"
   ]
  },
  {
   "cell_type": "markdown",
   "metadata": {},
   "source": [
    "### 演習 2-3\n",
    "どのようなサイズの画像に対しても、中央の 128×128 ピクセルがトリミングされるようなコードを作成しなさい。 今回は 128×128 よりも小さい画像については考えなくても良いものとするが、対応したコードになっていることが好ましい。"
   ]
  },
  {
   "cell_type": "code",
   "execution_count": null,
   "metadata": {},
   "outputs": [],
   "source": [
    "img_lenna = cv2.imread(\"./imgs/lenna.png\")\n",
    "H = img_lenna.shape[0]\n",
    "W = img_lenna.shape[1]\n",
    "\n",
    "if H < 128 or W < 128:\n",
    "    shorter_edge = min(H, W)\n",
    "    img_lenna_trim = img_lenna[int(H/2-64*shorter_edge/128):int(H/2+64*shorter_edge/128), int(W/2-64*shorter_edge/128):int(W/2+64*shorter_edge/128)]\n",
    "    img_lenna_trim = cv2.resize(img_lenna_trim, (128, 128))\n",
    "else:\n",
    "    img_lenna_trim = img_lenna[int(H/2-64):int(H/2+64), int(W/2-64):int(W/2+64)]\n",
    "\n",
    "# 画像の形状の表示\n",
    "print(img_lenna_trim.shape) # (height, width, channel)\n",
    "\n",
    "# 画像の表示\n",
    "plt.imshow(cv2.cvtColor(img_lenna_trim, cv2.COLOR_BGR2RGB))\n",
    "cv2.imwrite(\"./imgs/exercise2_3.png\", img_lenna_trim)\n",
    "plt.show()"
   ]
  },
  {
   "cell_type": "markdown",
   "metadata": {},
   "source": [
    "## 二値化"
   ]
  },
  {
   "cell_type": "code",
   "execution_count": null,
   "metadata": {},
   "outputs": [],
   "source": [
    "img_lenna = cv2.imread(\"./imgs/lenna.png\")\n",
    "img_lenna_gray = cv2.cvtColor(img_lenna, cv2.COLOR_BGR2GRAY) # BGR to GRAY\n",
    "\n",
    "# 二値化\n",
    "ret, img_lenna_gray_th = cv2.threshold(img_lenna_gray, 127, 255, cv2.THRESH_BINARY)\n",
    "print(img_lenna_gray_th.shape) # (height, width)\n",
    "\n",
    "# 画像の表示\n",
    "plt.imshow(img_lenna_gray_th)\n",
    "plt.gray()\n",
    "plt.show()"
   ]
  },
  {
   "cell_type": "markdown",
   "metadata": {},
   "source": [
    "### 演習 2-4：コインの画像またはCTデータに対し、公式ドキュメント を参考に、大津の二値化と適応的閾値処理を実装しなさい。また、それぞれの利点・欠点について考察しなさい。"
   ]
  },
  {
   "cell_type": "code",
   "execution_count": null,
   "metadata": {},
   "outputs": [],
   "source": [
    "img_coins = cv2.imread(\"./imgs/coins.png\")\n",
    "img_coins_gray = cv2.cvtColor(img_coins, cv2.COLOR_BGR2GRAY) # BGR to GRAY\n",
    "\n",
    "# 二値化\n",
    "ret, img_coins_gray_th = cv2.threshold(img_coins_gray, 127, 255, cv2.THRESH_BINARY)\n",
    "\n",
    "# 大津の二値化\n",
    "ret_o2, img_coins_gray_th_o2 = cv2.threshold(img_coins_gray, 0, 255, cv2.THRESH_BINARY+cv2.THRESH_OTSU)\n",
    "\n",
    "# 適応的閾値処理（平均）\n",
    "img_coins_gray_th_adapt_mean = cv2.adaptiveThreshold(img_coins_gray, 255, cv2.ADAPTIVE_THRESH_MEAN_C, cv2.THRESH_BINARY, 11, 2)\n",
    "\n",
    "# 適応的閾値処理（ガウス）\n",
    "img_coins_gray_th_adapt_gauss = cv2.adaptiveThreshold(img_coins_gray, 255, cv2.ADAPTIVE_THRESH_GAUSSIAN_C, cv2.THRESH_BINARY, 11, 2)\n",
    "\n",
    "# 画像の表示\n",
    "plt.subplot(2, 2, 1)\n",
    "plt.imshow(img_coins_gray_th)\n",
    "plt.axis(\"off\")\n",
    "plt.gray()\n",
    "plt.title(\"Global threshold\")\n",
    "plt.subplot(2, 2, 2)\n",
    "plt.imshow(img_coins_gray_th_o2)\n",
    "plt.axis(\"off\")\n",
    "plt.gray()\n",
    "plt.title(\"Otsu's method\")\n",
    "plt.subplot(2, 2, 3)\n",
    "plt.imshow(img_coins_gray_th_adapt_mean)\n",
    "plt.axis(\"off\")\n",
    "plt.gray()\n",
    "plt.title(\"Adaptive threshold (mean)\")\n",
    "plt.subplot(2, 2, 4)\n",
    "plt.imshow(img_coins_gray_th_adapt_gauss)\n",
    "plt.axis(\"off\")\n",
    "plt.gray()\n",
    "plt.title(\"Adaptive threshold (Gaussian)\")\n",
    "plt.tight_layout()\n",
    "# plt.subplots_adjust(left=0, right=1, bottom=0, top=1)\n",
    "plt.axis(\"off\")\n",
    "plt.savefig(\"./imgs/exercise2_4_coins.png\", dpi=600)\n",
    "plt.show()"
   ]
  },
  {
   "cell_type": "code",
   "execution_count": null,
   "metadata": {},
   "outputs": [],
   "source": [
    "bi_coins = cv2.imread(\"./imgs/exercise2_4_coins.png\")\n",
    "bi_coins = cv2.cvtColor(bi_coins, cv2.COLOR_BGR2RGB) # BGR to RGB\n",
    "bi_ct = cv2.imread(\"./imgs/exercise2_4_ct.png\")\n",
    "bi_ct = cv2.cvtColor(bi_ct, cv2.COLOR_BGR2RGB) # BGR to RGB\n",
    "\n",
    "# 画像を並べて表示\n",
    "plt.subplot(1, 2, 1)\n",
    "plt.imshow(bi_coins)\n",
    "plt.title(\"coins\")\n",
    "plt.axis(\"off\")\n",
    "plt.subplot(1, 2, 2)\n",
    "plt.imshow(bi_ct)\n",
    "plt.title(\"ct\")\n",
    "# 余白無しで保存\n",
    "plt.tight_layout()\n",
    "# plt.subplots_adjust(left=0, right=1, bottom=0, top=1)\n",
    "plt.axis(\"off\")\n",
    "plt.savefig(\"./imgs/exercise2_4.png\", bbox_inches=\"tight\", pad_inches=0, dpi=600)\n",
    "plt.show()"
   ]
  },
  {
   "cell_type": "markdown",
   "metadata": {},
   "source": [
    "## フィルタ処理"
   ]
  },
  {
   "cell_type": "code",
   "execution_count": null,
   "metadata": {},
   "outputs": [],
   "source": [
    "# 画像データの読み込み\n",
    "img_coins = cv2.imread(\"./imgs/coins.png\")\n",
    "\n",
    "# 平均値フィルタ\n",
    "filter = np.array([[1, 1, 1],\n",
    "                   [1, 1, 1],\n",
    "                   [1, 1, 1]]) / 9\n",
    "img_filtered = cv2.filter2D(img_coins, -1, filter)\n",
    "\n",
    "# 画像の表示\n",
    "plt.imshow(img_filtered)\n",
    "plt.show()"
   ]
  },
  {
   "cell_type": "code",
   "execution_count": null,
   "metadata": {},
   "outputs": [],
   "source": [
    "# 平均値フィルタ\n",
    "filter_avg = np.array([[1, 1, 1],\n",
    "                       [1, 1, 1],\n",
    "                       [1, 1, 1]]) / 9\n",
    "\n",
    "# 4近傍鮮鋭化フィルタ\n",
    "filter4 = np.array([[0, -1, 0],\n",
    "                    [-1, 5, -1],\n",
    "                    [0, -1, 0]])\n",
    "# 8近傍鮮鋭化フィルタ\n",
    "filter8 = np.array([[-1, -1, -1],\n",
    "                    [-1,  9, -1],\n",
    "                    [-1, -1, -1]])"
   ]
  },
  {
   "cell_type": "code",
   "execution_count": null,
   "metadata": {},
   "outputs": [],
   "source": [
    "# 画像データの読み込み\n",
    "img_coins = cv2.imread(\"./imgs/coins.png\")\n",
    "img_coins = cv2.cvtColor(img_coins, cv2.COLOR_BGR2GRAY) # BGR to GRAY\n",
    "\n",
    "# 平滑化フィルタ\n",
    "img_filter_avg = cv2.blur(img_coins, (3, 3)) # 平均値フィルタ\n",
    "img_filter_gaus = cv2.GaussianBlur(img_coins, (3, 3), 0.5) # ガウシアンフィルタ\n",
    "img_filter_median = cv2.medianBlur(img_coins, 3) # メディアンフィルタ\n",
    "\n",
    "# 画像を並べて表示\n",
    "plt.subplot(2, 2, 1)\n",
    "plt.imshow(img_coins)\n",
    "plt.gray()\n",
    "plt.title(\"Original\")\n",
    "plt.axis(\"off\")\n",
    "plt.subplot(2, 2, 2)\n",
    "plt.imshow(img_filter_avg)\n",
    "plt.gray()\n",
    "plt.title(\"Average\")\n",
    "plt.axis(\"off\")\n",
    "plt.subplot(2, 2, 3)\n",
    "plt.imshow(img_filter_gaus)\n",
    "plt.gray()\n",
    "plt.title(\"Gaussian\")\n",
    "plt.axis(\"off\")\n",
    "plt.subplot(2, 2, 4)\n",
    "plt.imshow(img_filter_median)\n",
    "plt.gray()\n",
    "plt.title(\"Median\")\n",
    "plt.axis(\"off\")\n",
    "plt.suptitle(\"Smoothing filter\")\n",
    "plt.savefig(\"./imgs/exercise2_5_sm.png\", bbox_inches=\"tight\", pad_inches=0, dpi=600)\n",
    "plt.show()"
   ]
  },
  {
   "cell_type": "code",
   "execution_count": null,
   "metadata": {},
   "outputs": [],
   "source": [
    "# 画像データの読み込み\n",
    "img_coins = cv2.imread(\"./imgs/coins.png\")\n",
    "img_coins = cv2.cvtColor(img_coins, cv2.COLOR_BGR2GRAY) # BGR to GRAY\n",
    "\n",
    "# 4近傍鮮鋭化フィルタ(元画像と同じ画像を作るフィルタ+縦横方向のラプラシアンフィルタ)\n",
    "filter4 = np.array([[0, -1, 0],\n",
    "                    [-1, 5, -1],\n",
    "                    [0, -1, 0]])\n",
    "# 8近傍鮮鋭化フィルタ（元画像と同じ画像を作るフィルタ+全方向のラプラシアンフィルタ）\n",
    "filter8 = np.array([[-1, -1,-1],\n",
    "                    [-1, 9, -1],\n",
    "                    [-1, -1, -1]])\n",
    "\n",
    "# 鮮鋭化フィルタ\n",
    "img_filter_sob_x = cv2.Sobel(img_coins, -1, 1, 0, ksize=3) # Sobelフィルタ: x方向\n",
    "img_filter_sob_y = cv2.Sobel(img_coins, -1, 0, 1, ksize=3) # Sobelフィルタ: y方向\n",
    "img_filter_sob_xy = cv2.Sobel(img_coins, -1, 1, 1, ksize=3) # Sobelフィルタ: xy方向\n",
    "img_filter4 = cv2.filter2D(img_coins, -1, filter4) # 4近傍鮮鋭化フィルタ\n",
    "img_filter8 = cv2.filter2D(img_coins, -1, filter8) # 8近傍鮮鋭化フィルタ\n",
    "\n",
    "# 画像を並べて表示\n",
    "plt.subplot(2, 3, 1)\n",
    "plt.imshow(img_coins)\n",
    "plt.gray()\n",
    "plt.title(\"Original\")\n",
    "plt.axis(\"off\")\n",
    "plt.subplot(2, 3, 4)\n",
    "plt.imshow(img_filter_sob_x)\n",
    "plt.gray()\n",
    "plt.title(\"Sobel filter (x)\")\n",
    "plt.axis(\"off\")\n",
    "plt.subplot(2, 3, 5)\n",
    "plt.imshow(img_filter_sob_y)\n",
    "plt.gray()\n",
    "plt.title(\"Sobel filter (y)\")\n",
    "plt.axis(\"off\")\n",
    "plt.subplot(2, 3, 6)\n",
    "plt.imshow(img_filter_sob_xy)\n",
    "plt.gray()\n",
    "plt.title(\"Sobel filter (xy)\")\n",
    "plt.axis(\"off\")\n",
    "plt.subplot(2, 3, 2)\n",
    "plt.imshow(img_filter4)\n",
    "plt.gray()\n",
    "plt.title(\"4-neighbors\")\n",
    "plt.axis(\"off\")\n",
    "plt.subplot(2, 3, 3)\n",
    "plt.imshow(img_filter8)\n",
    "plt.gray()\n",
    "plt.title(\"8-neighbors\")\n",
    "plt.axis(\"off\")\n",
    "plt.suptitle(\"Sharpening filter\")\n",
    "plt.savefig(\"./imgs/exercise2_5_sh.png\", bbox_inches=\"tight\", pad_inches=0, dpi=600)\n",
    "plt.show()"
   ]
  },
  {
   "cell_type": "code",
   "execution_count": null,
   "metadata": {},
   "outputs": [],
   "source": [
    "# 画像データの読み込み\n",
    "img_coins = cv2.imread(\"./imgs/coins.png\")\n",
    "img_coins = cv2.cvtColor(img_coins, cv2.COLOR_BGR2GRAY) # BGR to GRAY\n",
    "\n",
    "# エッジ検出\n",
    "img_edge_canny = cv2.Canny(img_coins, 100, 200) # Canny\n",
    "img_edge_lap4 = cv2.Laplacian(img_coins, -1, ksize=1) # 4近傍ラプラシアンフィルタ\n",
    "img_edge_lap8 = cv2.Laplacian(img_coins, -1, ksize=3) # 8近傍ラプラシアンフィルタ\n",
    "\n",
    "# 画像の表示\n",
    "plt.subplot(2, 2, 1)\n",
    "plt.imshow(img_coins)\n",
    "plt.title(\"Original\")\n",
    "plt.gray()\n",
    "plt.axis(\"off\")\n",
    "plt.subplot(2, 2, 2)\n",
    "plt.imshow(img_edge_canny)\n",
    "plt.gray()\n",
    "plt.title(\"Canny\")\n",
    "plt.axis(\"off\")\n",
    "plt.subplot(2, 2, 3)\n",
    "plt.imshow(img_edge_lap4)\n",
    "plt.gray()\n",
    "plt.title(\"Laplacian (4 neighbors)\")\n",
    "plt.axis(\"off\")\n",
    "plt.subplot(2, 2, 4)\n",
    "plt.imshow(img_edge_lap8)\n",
    "plt.gray()\n",
    "plt.title(\"Laplacian (8 neighbors)\")\n",
    "plt.axis(\"off\")\n",
    "plt.suptitle(\"Edge detection\")\n",
    "plt.savefig(\"./imgs/exercise2_5_ed.png\", bbox_inches=\"tight\", pad_inches=0, dpi=600)\n",
    "plt.show()"
   ]
  },
  {
   "cell_type": "code",
   "execution_count": null,
   "metadata": {},
   "outputs": [],
   "source": [
    "# 画像データの読み込み\n",
    "img_coins = cv2.imread(\"./imgs/coins.png\")\n",
    "img_coins = cv2.cvtColor(img_coins, cv2.COLOR_BGR2GRAY) # BGR to GRAY\n",
    "\n",
    "# 組合せ\n",
    "img_avg_sobel = cv2.Sobel(cv2.blur(img_coins, (3, 3)), -1, 1, 1, ksize=3) # Average + Sobel(xy)\n",
    "img_filter_gaus_canny = cv2.Canny(cv2.GaussianBlur(img_coins, (3, 3), 0), 100, 200) # Gaussian + Canny\n",
    "img_filter_4_lap = cv2.Laplacian(cv2.filter2D(img_coins, -1, filter4), -1, ksize=1) # 4-neighbors + Laplacian\n",
    "\n",
    "# 画像を並べて表示\n",
    "plt.subplot(2, 2, 1)\n",
    "plt.imshow(img_coins)\n",
    "plt.gray()\n",
    "plt.title(\"Original\")\n",
    "plt.axis(\"off\")\n",
    "plt.subplot(2, 2, 2)\n",
    "plt.imshow(img_avg_sobel)\n",
    "plt.gray()\n",
    "plt.title(\"Average + Sobel\")\n",
    "plt.axis(\"off\")\n",
    "plt.subplot(2, 2, 3)\n",
    "plt.imshow(img_filter_gaus_canny)\n",
    "plt.gray()\n",
    "plt.title(\"Gaussian + Canny\")\n",
    "plt.axis(\"off\")\n",
    "plt.subplot(2, 2, 4)\n",
    "plt.imshow(img_filter_4_lap)\n",
    "plt.gray()\n",
    "plt.title(\"4-neighbors + Laplacian\")\n",
    "plt.axis(\"off\")\n",
    "# plt.tight_layout()\n",
    "plt.suptitle(\"Combination\")\n",
    "plt.savefig(\"./imgs/exercise2_5_3.png\",bbox_inches=\"tight\", pad_inches=0, dpi=600)\n",
    "plt.show()"
   ]
  },
  {
   "cell_type": "code",
   "execution_count": null,
   "metadata": {},
   "outputs": [],
   "source": [
    "im_sm = cv2.imread(\"./imgs/exercise2_5_sm.png\")\n",
    "im_sh = cv2.imread(\"./imgs/exercise2_5_sh.png\")\n",
    "im_ed = cv2.imread(\"./imgs/exercise2_5_ed.png\")\n",
    "im_3 = cv2.imread(\"./imgs/exercise2_5_3.png\")\n",
    "\n",
    "im_sm = cv2.cvtColor(im_sm, cv2.COLOR_BGR2RGB) # BGR to RGB\n",
    "im_sh = cv2.cvtColor(im_sh, cv2.COLOR_BGR2RGB) # BGR to RGB\n",
    "im_ed = cv2.cvtColor(im_ed, cv2.COLOR_BGR2RGB) # BGR to RGB\n",
    "im_3 = cv2.cvtColor(im_3, cv2.COLOR_BGR2RGB) # BGR to RGB\n",
    "\n",
    "# 画像を並べて表示\n",
    "plt.subplot(2, 2, 1)\n",
    "plt.imshow(im_sm)\n",
    "plt.gray()\n",
    "plt.axis(\"off\")\n",
    "plt.subplot(2, 2, 2)\n",
    "plt.imshow(im_sh)\n",
    "plt.gray()\n",
    "plt.axis(\"off\")\n",
    "plt.subplot(2, 2, 3)\n",
    "plt.imshow(im_ed)\n",
    "plt.gray()\n",
    "plt.axis(\"off\")\n",
    "plt.subplot(2, 2, 4)\n",
    "plt.imshow(im_3)\n",
    "plt.gray()\n",
    "plt.axis(\"off\")\n",
    "plt.suptitle(\"Filters\")\n",
    "plt.savefig(\"./imgs/exercise2_5.png\", dpi=600)\n",
    "plt.show()"
   ]
  },
  {
   "cell_type": "markdown",
   "metadata": {},
   "source": [
    "## モルフォロジー演算"
   ]
  },
  {
   "cell_type": "markdown",
   "metadata": {},
   "source": [
    "## 画像の水増し"
   ]
  },
  {
   "cell_type": "markdown",
   "metadata": {},
   "source": []
  },
  {
   "cell_type": "markdown",
   "metadata": {},
   "source": [
    "## 課題2"
   ]
  },
  {
   "cell_type": "code",
   "execution_count": null,
   "metadata": {},
   "outputs": [],
   "source": [
    "# 平均値フィルタ\n",
    "filter_avg = np.array([[1, 1, 1],\n",
    "                       [1, 1, 1],\n",
    "                       [1, 1, 1]]) / 9\n",
    "\n",
    "# 4近傍鮮鋭化フィルタ\n",
    "filter4 = np.array([[0, -1, 0],\n",
    "                    [-1, 5, -1],\n",
    "                    [0, -1, 0]])\n",
    "# 8近傍鮮鋭化フィルタ\n",
    "filter8 = np.array([[-1, -1, -1],\n",
    "                    [-1,  9, -1],\n",
    "                    [-1, -1, -1]])"
   ]
  },
  {
   "cell_type": "code",
   "execution_count": null,
   "metadata": {},
   "outputs": [],
   "source": [
    "# 画像データの読み込み\n",
    "img_coins = cv2.imread(\"./imgs/coins.png\")\n",
    "img_coins_or = cv2.cvtColor(img_coins, cv2.COLOR_BGR2GRAY) # BGR to GRAY\n",
    "\n",
    "# 平滑化：メディアンフィルタ\n",
    "img_coins_med = cv2.blur(img_coins_or, (3, 3))\n",
    "\n",
    "# 平滑化：ガウスフィルタ\n",
    "img_coins_gaus = cv2.GaussianBlur(img_coins_or, (3, 3), 0.0) # ガウスフィルタ\n",
    "\n",
    "# 鮮鋭化：4近傍鮮鋭化\n",
    "img_coins_4 = cv2.filter2D(img_coins_gaus, -1, filter4) # 4近傍鮮鋭化\n",
    "\n",
    "# 鮮鋭化：8近傍鮮鋭化\n",
    "img_coins_8 = cv2.filter2D(img_coins_gaus, -1, filter8) # 8近傍鮮鋭化\n",
    "\n",
    "# バイラテラルフィルタ\n",
    "for a in range(0, 120, 10):\n",
    "    for b in range(0, 120, 10):\n",
    "        for th in range(90, 181, 10):\n",
    "            img_coins_bil = cv2.bilateralFilter(img_coins_gaus, 10, a, b)\n",
    "\n",
    "            # 適応的二値化\n",
    "            # th = 100\n",
    "            img_coins_th = cv2.threshold(img_coins_bil, th, 255, cv2.THRESH_BINARY)[1]\n",
    "\n",
    "            # 画像の表示\n",
    "            print(\"a: {}, b: {}, th: {}\".format(a, b, th))\n",
    "            plt.imshow(img_coins_th)\n",
    "            plt.gray()\n",
    "            plt.axis(\"off\")\n",
    "            plt.show()"
   ]
  },
  {
   "cell_type": "code",
   "execution_count": null,
   "metadata": {},
   "outputs": [],
   "source": []
  }
 ],
 "metadata": {
  "kernelspec": {
   "display_name": "env_lecture",
   "language": "python",
   "name": "python3"
  },
  "language_info": {
   "codemirror_mode": {
    "name": "ipython",
    "version": 3
   },
   "file_extension": ".py",
   "mimetype": "text/x-python",
   "name": "python",
   "nbconvert_exporter": "python",
   "pygments_lexer": "ipython3",
   "version": "3.12.0"
  }
 },
 "nbformat": 4,
 "nbformat_minor": 2
}
